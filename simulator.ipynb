{
 "cells": [
  {
   "cell_type": "code",
   "execution_count": 2,
   "id": "f6a8eb99",
   "metadata": {},
   "outputs": [
    {
     "ename": "ModuleNotFoundError",
     "evalue": "No module named 'simulator'",
     "output_type": "error",
     "traceback": [
      "\u001b[1;31m---------------------------------------------------------------------------\u001b[0m",
      "\u001b[1;31mModuleNotFoundError\u001b[0m                       Traceback (most recent call last)",
      "Cell \u001b[1;32mIn[2], line 6\u001b[0m\n\u001b[0;32m      4\u001b[0m sys\u001b[38;5;241m.\u001b[39mpath\u001b[38;5;241m.\u001b[39mappend(\u001b[38;5;124m\"\u001b[39m\u001b[38;5;124m./build/\u001b[39m\u001b[38;5;124m\"\u001b[39m)   \u001b[38;5;66;03m# add build/ to Python module search path\u001b[39;00m\n\u001b[0;32m      5\u001b[0m sys\u001b[38;5;241m.\u001b[39mpath\u001b[38;5;241m.\u001b[39mappend(\u001b[38;5;124m\"\u001b[39m\u001b[38;5;124m.\u001b[39m\u001b[38;5;130;01m\\\\\u001b[39;00m\u001b[38;5;124mbuild\u001b[39m\u001b[38;5;130;01m\\\\\u001b[39;00m\u001b[38;5;124m\"\u001b[39m) \u001b[38;5;66;03m# add common/ to Python module search path\u001b[39;00m\n\u001b[1;32m----> 6\u001b[0m \u001b[38;5;28;01mimport\u001b[39;00m \u001b[38;5;21;01msimulator\u001b[39;00m\n\u001b[0;32m      7\u001b[0m \u001b[38;5;28;01mimport\u001b[39;00m \u001b[38;5;21;01mnumpy\u001b[39;00m \u001b[38;5;28;01mas\u001b[39;00m \u001b[38;5;21;01mnp\u001b[39;00m\n\u001b[0;32m      8\u001b[0m \u001b[38;5;28;01mimport\u001b[39;00m \u001b[38;5;21;01mmatplotlib\u001b[39;00m\u001b[38;5;21;01m.\u001b[39;00m\u001b[38;5;21;01mpyplot\u001b[39;00m \u001b[38;5;28;01mas\u001b[39;00m \u001b[38;5;21;01mplt\u001b[39;00m\n",
      "\u001b[1;31mModuleNotFoundError\u001b[0m: No module named 'simulator'"
     ]
    }
   ],
   "source": [
    "import sys\n",
    "import pybind11\n",
    "\n",
    "sys.path.append(\"./build/\")   # add build/ to Python module search path\n",
    "sys.path.append(\".\\\\build\\\\\") # add common/ to Python module search path\n",
    "import simulator\n",
    "import numpy as np\n",
    "import matplotlib.pyplot as plt\n",
    "import time"
   ]
  },
  {
   "cell_type": "code",
   "execution_count": 11,
   "id": "750da0df",
   "metadata": {},
   "outputs": [],
   "source": [
    "sim = simulator.MCIsing(10, 10, seed=42, file_name=\"test.txt\")  # test if module works"
   ]
  },
  {
   "cell_type": "code",
   "execution_count": 12,
   "id": "ef2c862b",
   "metadata": {},
   "outputs": [],
   "source": [
    "sim.run_external_output(1000)  # run 1000 time steps and save to file"
   ]
  },
  {
   "cell_type": "code",
   "execution_count": null,
   "id": "e5a7507d",
   "metadata": {},
   "outputs": [],
   "source": [
    "# Setup script for a Python package using pybind11\n",
    "from setuptools import setup, Extension\n",
    "\n",
    "ext_modules = [\n",
    "    Extension(\n",
    "        \"example\",\n",
    "        [\"example.cpp\"],\n",
    "        include_dirs=[pybind11.get_include()],\n",
    "        language=\"c++\"\n",
    "    ),\n",
    "]\n",
    "\n",
    "setup(\n",
    "    name=\"example\",\n",
    "    version=\"0.1\",\n",
    "    ext_modules=ext_modules,\n",
    ")\n"
   ]
  },
  {
   "cell_type": "code",
   "execution_count": 2,
   "id": "6f18eb79",
   "metadata": {},
   "outputs": [
    {
     "ename": "ModuleNotFoundError",
     "evalue": "No module named 'simulator'",
     "output_type": "error",
     "traceback": [
      "\u001b[1;31m---------------------------------------------------------------------------\u001b[0m",
      "\u001b[1;31mModuleNotFoundError\u001b[0m                       Traceback (most recent call last)",
      "Cell \u001b[1;32mIn[2], line 1\u001b[0m\n\u001b[1;32m----> 1\u001b[0m \u001b[38;5;28;01mimport\u001b[39;00m \u001b[38;5;21;01msimulator\u001b[39;00m\n",
      "\u001b[1;31mModuleNotFoundError\u001b[0m: No module named 'simulator'"
     ]
    }
   ],
   "source": [
    "import simulator"
   ]
  }
 ],
 "metadata": {
  "kernelspec": {
   "display_name": "Python 3",
   "language": "python",
   "name": "python3"
  },
  "language_info": {
   "codemirror_mode": {
    "name": "ipython",
    "version": 3
   },
   "file_extension": ".py",
   "mimetype": "text/x-python",
   "name": "python",
   "nbconvert_exporter": "python",
   "pygments_lexer": "ipython3",
   "version": "3.11.8"
  }
 },
 "nbformat": 4,
 "nbformat_minor": 5
}

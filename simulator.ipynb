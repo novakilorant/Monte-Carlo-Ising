{
 "cells": [
  {
   "cell_type": "code",
   "execution_count": 3,
   "id": "f6a8eb99",
   "metadata": {},
   "outputs": [],
   "source": [
    "import sys\n",
    "import pybind11\n",
    "\n",
    "sys.path.append(\"./build/\")   # add build/ to Python module search path\n",
    "import simulator\n",
    "import numpy as np\n",
    "import matplotlib.pyplot as plt\n",
    "import time"
   ]
  },
  {
   "cell_type": "code",
   "execution_count": 5,
   "id": "750da0df",
   "metadata": {},
   "outputs": [],
   "source": [
    "\"\"\"\n",
    "py::arg(\"rows\"),\n",
    "py::arg(\"cols\"),\n",
    "py::arg(\"state\") = \"RANDOM\",\n",
    "py::arg(\"K\") = 1,\n",
    "py::arg(\"k_BT\") = 5,\n",
    "py::arg(\"h\") = 0,\n",
    "py::arg(\"seed\") = time(0),\n",
    "py::arg(\"file_name\") = \"output.txt\n",
    "\"\"\"\n",
    "sim = simulator.MCIsing(10, 10, state=\"UP\", seed=42, file_name=\"test.txt\")"
   ]
  },
  {
   "cell_type": "code",
   "execution_count": 6,
   "id": "ef2c862b",
   "metadata": {},
   "outputs": [],
   "source": [
    "sim_history = sim.run_numpy_output(1000)"
   ]
  },
  {
   "cell_type": "code",
   "execution_count": null,
   "id": "7bbee569",
   "metadata": {},
   "outputs": [
    {
     "data": {
      "text/plain": [
       "(1000, 10, 10)"
      ]
     },
     "execution_count": 8,
     "metadata": {},
     "output_type": "execute_result"
    }
   ],
   "source": [
    "sim."
   ]
  },
  {
   "cell_type": "code",
   "execution_count": null,
   "id": "e5a7507d",
   "metadata": {},
   "outputs": [],
   "source": [
    "# Setup script for a Python package using pybind11\n",
    "from setuptools import setup, Extension\n",
    "\n",
    "ext_modules = [\n",
    "    Extension(\n",
    "        \"example\",\n",
    "        [\"example.cpp\"],\n",
    "        include_dirs=[pybind11.get_include()],\n",
    "        language=\"c++\"\n",
    "    ),\n",
    "]\n",
    "\n",
    "setup(\n",
    "    name=\"example\",\n",
    "    version=\"0.1\",\n",
    "    ext_modules=ext_modules,\n",
    ")\n"
   ]
  },
  {
   "cell_type": "code",
   "execution_count": 2,
   "id": "6f18eb79",
   "metadata": {},
   "outputs": [
    {
     "ename": "ModuleNotFoundError",
     "evalue": "No module named 'simulator'",
     "output_type": "error",
     "traceback": [
      "\u001b[1;31m---------------------------------------------------------------------------\u001b[0m",
      "\u001b[1;31mModuleNotFoundError\u001b[0m                       Traceback (most recent call last)",
      "Cell \u001b[1;32mIn[2], line 1\u001b[0m\n\u001b[1;32m----> 1\u001b[0m \u001b[38;5;28;01mimport\u001b[39;00m \u001b[38;5;21;01msimulator\u001b[39;00m\n",
      "\u001b[1;31mModuleNotFoundError\u001b[0m: No module named 'simulator'"
     ]
    }
   ],
   "source": [
    "import simulator"
   ]
  }
 ],
 "metadata": {
  "kernelspec": {
   "display_name": "Python 3",
   "language": "python",
   "name": "python3"
  },
  "language_info": {
   "codemirror_mode": {
    "name": "ipython",
    "version": 3
   },
   "file_extension": ".py",
   "mimetype": "text/x-python",
   "name": "python",
   "nbconvert_exporter": "python",
   "pygments_lexer": "ipython3",
   "version": "3.11.8"
  }
 },
 "nbformat": 4,
 "nbformat_minor": 5
}
